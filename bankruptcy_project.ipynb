{
  "nbformat": 4,
  "nbformat_minor": 0,
  "metadata": {
    "colab": {
      "provenance": [],
      "authorship_tag": "ABX9TyNyLoWld1mOmDiWjdoz7XqW",
      "include_colab_link": true
    },
    "kernelspec": {
      "name": "python3",
      "display_name": "Python 3"
    },
    "language_info": {
      "name": "python"
    }
  },
  "cells": [
    {
      "cell_type": "markdown",
      "metadata": {
        "id": "view-in-github",
        "colab_type": "text"
      },
      "source": [
        "<a href=\"https://colab.research.google.com/github/D1scoDancer/Bankruptcy-DA-Project/blob/main/bankruptcy_project.ipynb\" target=\"_parent\"><img src=\"https://colab.research.google.com/assets/colab-badge.svg\" alt=\"Open In Colab\"/></a>"
      ]
    },
    {
      "cell_type": "code",
      "execution_count": 1,
      "metadata": {
        "id": "JSlKeMo6TL8T",
        "outputId": "3eddcf03-540a-4e15-e172-acb9d386f4dd",
        "colab": {
          "base_uri": "https://localhost:8080/"
        }
      },
      "outputs": [
        {
          "output_type": "stream",
          "name": "stdout",
          "text": [
            "Collecting ucimlrepo\n",
            "  Downloading ucimlrepo-0.0.7-py3-none-any.whl (8.0 kB)\n",
            "Requirement already satisfied: pandas>=1.0.0 in /usr/local/lib/python3.10/dist-packages (from ucimlrepo) (2.0.3)\n",
            "Requirement already satisfied: certifi>=2020.12.5 in /usr/local/lib/python3.10/dist-packages (from ucimlrepo) (2024.2.2)\n",
            "Requirement already satisfied: python-dateutil>=2.8.2 in /usr/local/lib/python3.10/dist-packages (from pandas>=1.0.0->ucimlrepo) (2.8.2)\n",
            "Requirement already satisfied: pytz>=2020.1 in /usr/local/lib/python3.10/dist-packages (from pandas>=1.0.0->ucimlrepo) (2023.4)\n",
            "Requirement already satisfied: tzdata>=2022.1 in /usr/local/lib/python3.10/dist-packages (from pandas>=1.0.0->ucimlrepo) (2024.1)\n",
            "Requirement already satisfied: numpy>=1.21.0 in /usr/local/lib/python3.10/dist-packages (from pandas>=1.0.0->ucimlrepo) (1.25.2)\n",
            "Requirement already satisfied: six>=1.5 in /usr/local/lib/python3.10/dist-packages (from python-dateutil>=2.8.2->pandas>=1.0.0->ucimlrepo) (1.16.0)\n",
            "Installing collected packages: ucimlrepo\n",
            "Successfully installed ucimlrepo-0.0.7\n"
          ]
        }
      ],
      "source": [
        "!pip install ucimlrepo"
      ]
    },
    {
      "cell_type": "markdown",
      "source": [
        "# Импорты"
      ],
      "metadata": {
        "id": "8NfsgZU6TZFd"
      }
    },
    {
      "cell_type": "code",
      "source": [
        "import pandas as pd\n",
        "import numpy as np\n",
        "from ucimlrepo import fetch_ucirepo\n"
      ],
      "metadata": {
        "id": "TmObw9NHTaCA"
      },
      "execution_count": 2,
      "outputs": []
    },
    {
      "cell_type": "markdown",
      "source": [
        "# Предобработка данных"
      ],
      "metadata": {
        "id": "84ZVvrRoTazA"
      }
    },
    {
      "cell_type": "markdown",
      "source": [
        "### Получение данных"
      ],
      "metadata": {
        "id": "ogApr1aeVnEk"
      }
    },
    {
      "cell_type": "code",
      "source": [
        "# fetch taiwanese dataset\n",
        "taiwanese_bankruptcy_prediction = fetch_ucirepo(id=572)\n",
        "\n",
        "# data (as pandas dataframes)\n",
        "X = taiwanese_bankruptcy_prediction.data.features\n",
        "y = taiwanese_bankruptcy_prediction.data.targets"
      ],
      "metadata": {
        "id": "uKbTz_JOTdAI"
      },
      "execution_count": 4,
      "outputs": []
    },
    {
      "cell_type": "code",
      "source": [
        "# fetch polish dataset\n",
        "polish_companies_bankruptcy = fetch_ucirepo(id=365)\n",
        "\n",
        "# data (as pandas dataframes)\n",
        "X = polish_companies_bankruptcy.data.features\n",
        "y = polish_companies_bankruptcy.data.targets"
      ],
      "metadata": {
        "id": "vEr2TrbWTdrr"
      },
      "execution_count": 5,
      "outputs": []
    },
    {
      "cell_type": "markdown",
      "source": [
        "# Анализ данных"
      ],
      "metadata": {
        "id": "E8Tt_3WITeAU"
      }
    },
    {
      "cell_type": "markdown",
      "source": [
        "## Тайвань"
      ],
      "metadata": {
        "id": "Heo9knEOThz2"
      }
    },
    {
      "cell_type": "code",
      "source": [],
      "metadata": {
        "id": "bgY_D1ChTfcd"
      },
      "execution_count": null,
      "outputs": []
    },
    {
      "cell_type": "code",
      "source": [],
      "metadata": {
        "id": "umiG2HqZTgpn"
      },
      "execution_count": null,
      "outputs": []
    },
    {
      "cell_type": "code",
      "source": [],
      "metadata": {
        "id": "TXBAGgC8Tg3m"
      },
      "execution_count": null,
      "outputs": []
    },
    {
      "cell_type": "markdown",
      "source": [
        "## Польша"
      ],
      "metadata": {
        "id": "E2cZrgb8TlRq"
      }
    },
    {
      "cell_type": "code",
      "source": [],
      "metadata": {
        "id": "-GSeai76Tl8F"
      },
      "execution_count": null,
      "outputs": []
    },
    {
      "cell_type": "code",
      "source": [],
      "metadata": {
        "id": "Dpq2Sef1Tmgh"
      },
      "execution_count": null,
      "outputs": []
    },
    {
      "cell_type": "code",
      "source": [],
      "metadata": {
        "id": "BlaysrSCTmUR"
      },
      "execution_count": null,
      "outputs": []
    },
    {
      "cell_type": "markdown",
      "source": [
        "# Сравнительный анализ данных"
      ],
      "metadata": {
        "id": "U0TxTxmMTmz5"
      }
    },
    {
      "cell_type": "code",
      "source": [],
      "metadata": {
        "id": "GTFMVfeMTpLn"
      },
      "execution_count": null,
      "outputs": []
    },
    {
      "cell_type": "code",
      "source": [],
      "metadata": {
        "id": "N4hZKh2FTpvg"
      },
      "execution_count": null,
      "outputs": []
    },
    {
      "cell_type": "code",
      "source": [],
      "metadata": {
        "id": "ufzU6kdRTqB_"
      },
      "execution_count": null,
      "outputs": []
    },
    {
      "cell_type": "code",
      "source": [],
      "metadata": {
        "id": "JsPoavukVDs3"
      },
      "execution_count": null,
      "outputs": []
    },
    {
      "cell_type": "markdown",
      "source": [
        "# Построение моделей"
      ],
      "metadata": {
        "id": "r1at2jCPTqSS"
      }
    },
    {
      "cell_type": "code",
      "source": [],
      "metadata": {
        "id": "-yBaBp5sVHNH"
      },
      "execution_count": null,
      "outputs": []
    }
  ]
}